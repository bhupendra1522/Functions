{
 "cells": [
  {
   "cell_type": "markdown",
   "id": "485849ea",
   "metadata": {},
   "source": [
    "FUNCTIONS\n",
    "\n",
    "Function is a group of related statments that performs a spacific task.\n",
    "\n",
    "function help break our program into smaller and moduler chunks. as our program grow larger and larger,function make it more organized and manageable.\n",
    "\n",
    "help(),print(),float(),str(),type(),range(),min(),max(),len(),input(),list()"
   ]
  },
  {
   "cell_type": "code",
   "execution_count": 30,
   "id": "a1f6bb9e",
   "metadata": {},
   "outputs": [
    {
     "name": "stdout",
     "output_type": "stream",
     "text": [
      "\n"
     ]
    }
   ],
   "source": [
    "print()"
   ]
  },
  {
   "cell_type": "code",
   "execution_count": 17,
   "id": "97ba154c",
   "metadata": {},
   "outputs": [
    {
     "data": {
      "text/plain": [
       "0.0"
      ]
     },
     "execution_count": 17,
     "metadata": {},
     "output_type": "execute_result"
    }
   ],
   "source": [
    "float()"
   ]
  },
  {
   "cell_type": "code",
   "execution_count": 18,
   "id": "3df7b202",
   "metadata": {},
   "outputs": [
    {
     "data": {
      "text/plain": [
       "''"
      ]
     },
     "execution_count": 18,
     "metadata": {},
     "output_type": "execute_result"
    }
   ],
   "source": [
    "str()"
   ]
  },
  {
   "cell_type": "code",
   "execution_count": 22,
   "id": "bd5a52c6",
   "metadata": {},
   "outputs": [
    {
     "data": {
      "text/plain": [
       "int"
      ]
     },
     "execution_count": 22,
     "metadata": {},
     "output_type": "execute_result"
    }
   ],
   "source": [
    "type(1)"
   ]
  },
  {
   "cell_type": "code",
   "execution_count": 24,
   "id": "a355b753",
   "metadata": {},
   "outputs": [
    {
     "data": {
      "text/plain": [
       "range(0, 1)"
      ]
     },
     "execution_count": 24,
     "metadata": {},
     "output_type": "execute_result"
    }
   ],
   "source": [
    "range(1)"
   ]
  },
  {
   "cell_type": "code",
   "execution_count": 7,
   "id": "f4339db2",
   "metadata": {},
   "outputs": [
    {
     "name": "stdout",
     "output_type": "stream",
     "text": [
      "\n",
      "Welcome to Python 3.9's help utility!\n",
      "\n",
      "If this is your first time using Python, you should definitely check out\n",
      "the tutorial on the Internet at https://docs.python.org/3.9/tutorial/.\n",
      "\n",
      "Enter the name of any module, keyword, or topic to get help on writing\n",
      "Python programs and using Python modules.  To quit this help utility and\n",
      "return to the interpreter, just type \"quit\".\n",
      "\n",
      "To get a list of available modules, keywords, symbols, or topics, type\n",
      "\"modules\", \"keywords\", \"symbols\", or \"topics\".  Each module also comes\n",
      "with a one-line summary of what it does; to list the modules whose name\n",
      "or summary contain a given string such as \"spam\", type \"modules spam\".\n",
      "\n",
      "help> \"symbols\"\n",
      "\n",
      "Here is a list of the punctuation symbols which Python assigns special meaning\n",
      "to. Enter any symbol to get more help.\n",
      "\n",
      "!=                  +                   <=                  __\n",
      "\"                   +=                  <>                  `\n",
      "\"\"\"                 ,                   ==                  b\"\n",
      "%                   -                   >                   b'\n",
      "%=                  -=                  >=                  f\"\n",
      "&                   .                   >>                  f'\n",
      "&=                  ...                 >>=                 j\n",
      "'                   /                   @                   r\"\n",
      "'''                 //                  J                   r'\n",
      "(                   //=                 [                   u\"\n",
      ")                   /=                  \\                   u'\n",
      "*                   :                   ]                   |\n",
      "**                  <                   ^                   |=\n",
      "**=                 <<                  ^=                  ~\n",
      "*=                  <<=                 _                   \n",
      "\n",
      "help> \"topics\"\n",
      "\n",
      "Here is a list of available topics.  Enter any topic name to get more help.\n",
      "\n",
      "ASSERTION           DELETION            LOOPING             SHIFTING\n",
      "ASSIGNMENT          DICTIONARIES        MAPPINGMETHODS      SLICINGS\n",
      "ATTRIBUTEMETHODS    DICTIONARYLITERALS  MAPPINGS            SPECIALATTRIBUTES\n",
      "ATTRIBUTES          DYNAMICFEATURES     METHODS             SPECIALIDENTIFIERS\n",
      "AUGMENTEDASSIGNMENT ELLIPSIS            MODULES             SPECIALMETHODS\n",
      "BASICMETHODS        EXCEPTIONS          NAMESPACES          STRINGMETHODS\n",
      "BINARY              EXECUTION           NONE                STRINGS\n",
      "BITWISE             EXPRESSIONS         NUMBERMETHODS       SUBSCRIPTS\n",
      "BOOLEAN             FLOAT               NUMBERS             TRACEBACKS\n",
      "CALLABLEMETHODS     FORMATTING          OBJECTS             TRUTHVALUE\n",
      "CALLS               FRAMEOBJECTS        OPERATORS           TUPLELITERALS\n",
      "CLASSES             FRAMES              PACKAGES            TUPLES\n",
      "CODEOBJECTS         FUNCTIONS           POWER               TYPEOBJECTS\n",
      "COMPARISON          IDENTIFIERS         PRECEDENCE          TYPES\n",
      "COMPLEX             IMPORTING           PRIVATENAMES        UNARY\n",
      "CONDITIONAL         INTEGER             RETURNING           UNICODE\n",
      "CONTEXTMANAGERS     LISTLITERALS        SCOPING             \n",
      "CONVERSIONS         LISTS               SEQUENCEMETHODS     \n",
      "DEBUGGING           LITERALS            SEQUENCES           \n",
      "\n",
      "help> \"keywords\"\n",
      "\n",
      "Here is a list of the Python keywords.  Enter any keyword to get more help.\n",
      "\n",
      "False               break               for                 not\n",
      "None                class               from                or\n",
      "True                continue            global              pass\n",
      "__peg_parser__      def                 if                  raise\n",
      "and                 del                 import              return\n",
      "as                  elif                in                  try\n",
      "assert              else                is                  while\n",
      "async               except              lambda              with\n",
      "await               finally             nonlocal            yield\n",
      "\n",
      "help> \"modules\"\n",
      "\n",
      "Please wait a moment while I gather a list of all available modules...\n",
      "\n"
     ]
    },
    {
     "name": "stderr",
     "output_type": "stream",
     "text": [
      "E:\\bhupendra\\lib\\site-packages\\nltk\\twitter\\__init__.py:20: UserWarning: The twython library has not been installed. Some functionality from the twitter package will not be available.\n",
      "  warnings.warn(\n",
      "E:\\bhupendra\\lib\\site-packages\\_distutils_hack\\__init__.py:30: UserWarning: Setuptools is replacing distutils.\n",
      "  warnings.warn(\"Setuptools is replacing distutils.\")\n"
     ]
    },
    {
     "name": "stdout",
     "output_type": "stream",
     "text": [
      "Update LANGUAGE_CODES (inside config/base.py) if a new translation has been added to Spyder\n"
     ]
    },
    {
     "name": "stderr",
     "output_type": "stream",
     "text": [
      "No QCoreApplication instance found. Application patches not applied. You have to call load_stylesheet function after instantiation of QApplication to take effect. \n",
      "E:\\bhupendra\\lib\\pkgutil.py:108: VisibleDeprecationWarning:\n",
      "\n",
      "zmq.eventloop.minitornado is deprecated in pyzmq 14.0 and will be removed.\n",
      "    Install tornado itself to use zmq with the tornado IOLoop.\n",
      "    \n",
      "\n"
     ]
    },
    {
     "name": "stdout",
     "output_type": "stream",
     "text": [
      "Cython              comtypes            msgpack             sortedcontainers\n",
      "IPython             concurrent          msilib              soupsieve\n",
      "OpenSSL             conda               msvcrt              sphinx\n",
      "PIL                 conda_build         multidict           spyder\n",
      "PyQt5               conda_content_trust multipledispatch    spyder_kernels\n",
      "TBB                 conda_env           multiprocessing     sqlalchemy\n",
      "__future__          conda_pack          munkres             sqlite3\n",
      "_abc                conda_package_handling mypackage           sre_compile\n",
      "_aix_support        conda_token         mypy_extensions     sre_constants\n",
      "_argon2_cffi_bindings conda_verify        nacl                sre_parse\n",
      "_ast                configparser        navigator_updater   ssl\n",
      "_asyncio            conftest            nbclassic           sspi\n",
      "_bisect             constantly          nbclient            sspicon\n",
      "_black_version      contextlib          nbconvert           stack_data\n",
      "_blake2             contextvars         nbformat            stat\n",
      "_bootlocale         cookiecutter        nest_asyncio        statistics\n",
      "_bootsubprocess     copy                netbios             statsmodels\n",
      "_bz2                copyreg             netrc               string\n",
      "_cffi_backend       crypt               networkx            stringprep\n",
      "_codecs             cryptography        nltk                struct\n",
      "_codecs_cn          cssselect           nntplib             subprocess\n",
      "_codecs_hk          csv                 nose                sunau\n",
      "_codecs_iso2022     ctypes              notebook            symbol\n",
      "_codecs_jp          curl                nt                  sympy\n",
      "_codecs_kr          curses              ntpath              symtable\n",
      "_codecs_tw          cwp                 ntsecuritycon       sys\n",
      "_collections        cycler              nturl2path          sysconfig\n",
      "_collections_abc    cython              numba               tables\n",
      "_compat_pickle      cytoolz             numbergen           tabnanny\n",
      "_compression        daal4py             numbers             tabulate\n",
      "_contextvars        dask                numexpr             tarfile\n",
      "_csv                dataclasses         numpy               tbb\n",
      "_ctypes             datashader          numpydoc            tblib\n",
      "_ctypes_test        datashape           odbc                telnetlib\n",
      "_datetime           datetime            olefile             tempfile\n",
      "_decimal            dateutil            onedal              tenacity\n",
      "_distutils_hack     dbi                 opcode              terminado\n",
      "_elementtree        dbm                 openpyxl            test\n",
      "_functools          dde                 operator            test_connect\n",
      "_hashlib            debugpy             optparse            test_core\n",
      "_heapq              decimal             os                  test_cosmology\n",
      "_imp                decorator           packaging           test_flrw\n",
      "_io                 defusedxml          pandas              test_funcs\n",
      "_json               diff_match_patch    pandocfilters       test_parameter\n",
      "_locale             difflib             panel               test_pickle\n",
      "_lsprof             dis                 param               test_pycosat\n",
      "_lzma               distributed         paramiko            test_realizations\n",
      "_markupbase         distutils           parsel              test_units\n",
      "_md5                doctest             parser              test_utils\n",
      "_msi                docutils            parso               testpath\n",
      "_multibytecodec     email               partd               text_unidecode\n",
      "_multiprocessing    encodings           past                textdistance\n",
      "_nsis               ensurepip           pathlib             textwrap\n",
      "_opcode             entrypoints         pathspec            this\n",
      "_operator           enum                patsy               threading\n",
      "_osx_support        erfa                pdb                 threadpoolctl\n",
      "_overlapped         errno               pep8                three_merge\n",
      "_peg_parser         et_xmlfile          perfmon             tifffile\n",
      "_pickle             executing           pexpect             time\n",
      "_plotly_future_     fastjsonschema      pickle              timeit\n",
      "_plotly_utils       faulthandler        pickleshare         timer\n",
      "_py_abc             filecmp             pickletools         tinycss\n",
      "_pydecimal          fileinput           pip                 tkinter\n",
      "_pyio               filelock            pipes               tldextract\n",
      "_pyrsistent_version flake8              pkg_resources       tlz\n",
      "_pytest             flask               pkginfo             token\n",
      "_queue              fnmatch             pkgutil             tokenize\n",
      "_random             fontTools           platform            toml\n",
      "_sha1               formatter           plistlib            tomli\n",
      "_sha256             fractions           plotly              toolz\n",
      "_sha3               frozenlist          pluggy              tornado\n",
      "_sha512             fsspec              poplib              tqdm\n",
      "_signal             ftplib              posixpath           trace\n",
      "_sitebuiltins       functools           poyo                traceback\n",
      "_socket             future              pprint              tracemalloc\n",
      "_sqlite3            gc                  profile             traitlets\n",
      "_sre                genericpath         prometheus_client   tty\n",
      "_ssl                gensim              prompt_toolkit      turtle\n",
      "_stat               getopt              protego             turtledemo\n",
      "_statistics         getpass             pstats              twisted\n",
      "_string             gettext             psutil              typed_ast\n",
      "_strptime           glob                pty                 types\n",
      "_struct             glob2               ptyprocess          typing\n",
      "_symtable           google_crc32c       pure_eval           typing_extensions\n",
      "_system_path        graphlib            pvectorc            ujson\n",
      "_testbuffer         greenlet            py                  unicodedata\n",
      "_testcapi           grpc                py_compile          unidecode\n",
      "_testconsole        gzip                pyasn1              unittest\n",
      "_testimportmultiple h5py                pyasn1_modules      urllib\n",
      "_testinternalcapi   hamcrest            pyclbr              urllib3\n",
      "_testmultiphase     hashlib             pycodestyle         uu\n",
      "_thread             heapdict            pycosat             uuid\n",
      "_threading_local    heapq               pycparser           venv\n",
      "_tkinter            hmac                pyct                w3lib\n",
      "_tracemalloc        holoviews           pycurl              warnings\n",
      "_uuid               html                pydispatch          watchdog\n",
      "_warnings           http                pydoc               wave\n",
      "_weakref            hvplot              pydoc_data          wcwidth\n",
      "_weakrefset         hyperlink           pydocstyle          weakref\n",
      "_win32sysloader     idlelib             pyexpat             webbrowser\n",
      "_winapi             idna                pyflakes            webencodings\n",
      "_winxptheme         imagecodecs         pygments            websocket\n",
      "_xxsubinterpreters  imageio             pylab               werkzeug\n",
      "_yaml               imagesize           pylint              wheel\n",
      "_zoneinfo           imaplib             pyls_spyder         widgetsnbextension\n",
      "abc                 imghdr              pylsp               win2kras\n",
      "adodbapi            imp                 pylsp_black         win32api\n",
      "afxres              importlib           pylsp_jsonrpc       win32clipboard\n",
      "aifc                importlib_metadata  pyodbc              win32com\n",
      "aiohttp             incremental         pyparsing           win32con\n",
      "aiosignal           inflection          pyreadline          win32console\n",
      "alabaster           iniconfig           pyrsistent          win32cred\n",
      "anaconda_navigator  inspect             pytest              win32crypt\n",
      "anaconda_project    intake              pythoncom           win32cryptcon\n",
      "antigravity         intervaltree        pytz                win32ctypes\n",
      "anyio               io                  pyviz_comms         win32event\n",
      "appdirs             ipaddress           pywin               win32evtlog\n",
      "argon2              ipykernel           pywin32_bootstrap   win32evtlogutil\n",
      "argparse            ipykernel_launcher  pywin32_testutil    win32file\n",
      "array               ipython_genutils    pywintypes          win32gui\n",
      "arrow               ipywidgets          pywt                win32gui_struct\n",
      "ast                 isapi               pyximport           win32help\n",
      "astroid             isort               qdarkstyle          win32inet\n",
      "astropy             isympy              qstylizer           win32inetcon\n",
      "asttokens           itemadapter         qtawesome           win32job\n",
      "async_timeout       itemloaders         qtconsole           win32lz\n",
      "asynchat            itertools           qtpy                win32net\n",
      "asyncio             itsdangerous        queue               win32netcon\n",
      "asyncore            jdcal               queuelib            win32pdh\n",
      "atexit              jedi                quopri              win32pdhquery\n",
      "atomicwrites        jinja2              random              win32pdhutil\n",
      "attr                jinja2_time         rasutil             win32pipe\n",
      "attrs               jmespath            re                  win32print\n",
      "audioop             joblib              readline            win32process\n",
      "automat             json                regcheck            win32profile\n",
      "autopep8            json5               regex               win32ras\n",
      "babel               jsonschema          regutil             win32rcparser\n",
      "backcall            jupyter             repo_cli            win32security\n",
      "backports           jupyter_client      reprlib             win32service\n",
      "base64              jupyter_console     requests            win32serviceutil\n",
      "bcrypt              jupyter_core        requests_file       win32timezone\n",
      "bdb                 jupyter_server      rlcompleter         win32trace\n",
      "binaryornot         jupyterlab          rope                win32traceutil\n",
      "binascii            jupyterlab_plotly   rsa                 win32transaction\n",
      "binhex              jupyterlab_pygments rtree               win32ts\n",
      "binstar_client      jupyterlab_server   ruamel_yaml         win32ui\n",
      "bisect              jupyterlab_widgets  run                 win32uiole\n",
      "bitarray            jwt                 runpy               win32verstamp\n",
      "bkcharts            keyring             s3transfer          win32wnet\n",
      "black               keyword             sched               win_inet_pton\n",
      "blackd              kiwisolver          scipy               win_unicode_console\n",
      "bleach              lazy_object_proxy   scrapy              wincertstore\n",
      "blib2to3            lib2to3             seaborn             winerror\n",
      "bokeh               libarchive          secrets             winioctlcon\n",
      "boto3               libfuturize         select              winnt\n",
      "botocore            libpasteurize       selectors           winperf\n",
      "bottleneck          lief                send2trash          winpty\n",
      "brotli              linecache           service_identity    winreg\n",
      "bs4                 llvmlite            servicemanager      winsound\n",
      "builtins            locale              setuptools          winxpgui\n",
      "bz2                 locket              shelve              winxptheme\n",
      "cProfile            logging             shlex               wrapt\n",
      "cachetools          lxml                shutil              wsgiref\n",
      "calendar            lzma                signal              xarray\n",
      "certifi             mailbox             sip                 xdrlib\n",
      "cffi                mailcap             sipconfig           xlrd\n",
      "cgi                 markdown            sipdistutils        xlsxwriter\n",
      "cgitb               markupsafe          site                xlwings\n",
      "chardet             marshal             six                 xml\n",
      "charset_normalizer  math                skimage             xmlrpc\n",
      "chunk               matplotlib          sklearn             xxsubtype\n",
      "click               matplotlib_inline   sklearnex           yaml\n",
      "cloudpickle         mccabe              slugify             yapf\n",
      "clyent              menuinst            smart_open          yapftests\n",
      "cmath               mimetypes           smtpd               yarl\n",
      "cmd                 mistune             smtplib             zict\n",
      "code                mkl                 snappy              zipapp\n",
      "codecs              mkl_fft             sndhdr              zipfile\n",
      "codeop              mkl_random          sniffio             zipimport\n",
      "collections         mmap                snowballstemmer     zipp\n",
      "colorama            mmapfile            socket              zlib\n",
      "colorcet            mmsystem            socketserver        zmq\n",
      "colorsys            mock                socks               zoneinfo\n",
      "commctrl            modulefinder        sockshandler        zope\n",
      "compileall          mpmath              sortedcollections   \n",
      "\n",
      "Enter any module name to get more help.  Or, type \"modules spam\" to search\n",
      "for modules whose name or summary contain the string \"spam\".\n",
      "\n",
      "\n",
      "You are now leaving help and returning to the Python interpreter.\n",
      "If you want to ask for help on a particular object directly from the\n",
      "interpreter, you can type \"help(object)\".  Executing \"help('string')\"\n",
      "has the same effect as typing a particular string at the help> prompt.\n"
     ]
    }
   ],
   "source": [
    "help()"
   ]
  },
  {
   "cell_type": "code",
   "execution_count": 6,
   "id": "b396aea6",
   "metadata": {},
   "outputs": [
    {
     "name": "stdout",
     "output_type": "stream",
     "text": [
      "Help on built-in function len in module builtins:\n",
      "\n",
      "len(obj, /)\n",
      "    Return the number of items in a container.\n",
      "\n"
     ]
    }
   ],
   "source": [
    "help(len)"
   ]
  },
  {
   "cell_type": "code",
   "execution_count": 7,
   "id": "b8ed2d71",
   "metadata": {},
   "outputs": [
    {
     "name": "stdout",
     "output_type": "stream",
     "text": [
      "Help on built-in function min in module builtins:\n",
      "\n",
      "min(...)\n",
      "    min(iterable, *[, default=obj, key=func]) -> value\n",
      "    min(arg1, arg2, *args, *[, key=func]) -> value\n",
      "    \n",
      "    With a single iterable argument, return its smallest item. The\n",
      "    default keyword-only argument specifies an object to return if\n",
      "    the provided iterable is empty.\n",
      "    With two or more arguments, return the smallest argument.\n",
      "\n"
     ]
    }
   ],
   "source": [
    "help(min)"
   ]
  },
  {
   "cell_type": "code",
   "execution_count": 8,
   "id": "3a9459ee",
   "metadata": {},
   "outputs": [
    {
     "data": {
      "text/plain": [
       "4"
      ]
     },
     "execution_count": 8,
     "metadata": {},
     "output_type": "execute_result"
    }
   ],
   "source": [
    "len(\"abcd\")"
   ]
  },
  {
   "cell_type": "code",
   "execution_count": 3,
   "id": "5723ed75",
   "metadata": {},
   "outputs": [
    {
     "name": "stdout",
     "output_type": "stream",
     "text": [
      "Help on method raw_input in module ipykernel.kernelbase:\n",
      "\n",
      "raw_input(prompt='') method of ipykernel.ipkernel.IPythonKernel instance\n",
      "    Forward raw_input to frontends\n",
      "    \n",
      "    Raises\n",
      "    ------\n",
      "    StdinNotImplementedError if active frontend doesn't support stdin.\n",
      "\n"
     ]
    }
   ],
   "source": [
    "help(input)"
   ]
  },
  {
   "cell_type": "code",
   "execution_count": 11,
   "id": "a77b3b79",
   "metadata": {},
   "outputs": [
    {
     "data": {
      "text/plain": [
       "22"
      ]
     },
     "execution_count": 11,
     "metadata": {},
     "output_type": "execute_result"
    }
   ],
   "source": [
    "k=[40,60,22,24,36,86]\n",
    "min(k)"
   ]
  },
  {
   "cell_type": "code",
   "execution_count": 12,
   "id": "b8ece747",
   "metadata": {},
   "outputs": [
    {
     "data": {
      "text/plain": [
       "86"
      ]
     },
     "execution_count": 12,
     "metadata": {},
     "output_type": "execute_result"
    }
   ],
   "source": [
    "max(k)"
   ]
  },
  {
   "cell_type": "code",
   "execution_count": 32,
   "id": "8056318e",
   "metadata": {},
   "outputs": [
    {
     "name": "stdout",
     "output_type": "stream",
     "text": [
      "Help on class list in module builtins:\n",
      "\n",
      "class list(object)\n",
      " |  list(iterable=(), /)\n",
      " |  \n",
      " |  Built-in mutable sequence.\n",
      " |  \n",
      " |  If no argument is given, the constructor creates a new empty list.\n",
      " |  The argument must be an iterable if specified.\n",
      " |  \n",
      " |  Methods defined here:\n",
      " |  \n",
      " |  __add__(self, value, /)\n",
      " |      Return self+value.\n",
      " |  \n",
      " |  __contains__(self, key, /)\n",
      " |      Return key in self.\n",
      " |  \n",
      " |  __delitem__(self, key, /)\n",
      " |      Delete self[key].\n",
      " |  \n",
      " |  __eq__(self, value, /)\n",
      " |      Return self==value.\n",
      " |  \n",
      " |  __ge__(self, value, /)\n",
      " |      Return self>=value.\n",
      " |  \n",
      " |  __getattribute__(self, name, /)\n",
      " |      Return getattr(self, name).\n",
      " |  \n",
      " |  __getitem__(...)\n",
      " |      x.__getitem__(y) <==> x[y]\n",
      " |  \n",
      " |  __gt__(self, value, /)\n",
      " |      Return self>value.\n",
      " |  \n",
      " |  __iadd__(self, value, /)\n",
      " |      Implement self+=value.\n",
      " |  \n",
      " |  __imul__(self, value, /)\n",
      " |      Implement self*=value.\n",
      " |  \n",
      " |  __init__(self, /, *args, **kwargs)\n",
      " |      Initialize self.  See help(type(self)) for accurate signature.\n",
      " |  \n",
      " |  __iter__(self, /)\n",
      " |      Implement iter(self).\n",
      " |  \n",
      " |  __le__(self, value, /)\n",
      " |      Return self<=value.\n",
      " |  \n",
      " |  __len__(self, /)\n",
      " |      Return len(self).\n",
      " |  \n",
      " |  __lt__(self, value, /)\n",
      " |      Return self<value.\n",
      " |  \n",
      " |  __mul__(self, value, /)\n",
      " |      Return self*value.\n",
      " |  \n",
      " |  __ne__(self, value, /)\n",
      " |      Return self!=value.\n",
      " |  \n",
      " |  __repr__(self, /)\n",
      " |      Return repr(self).\n",
      " |  \n",
      " |  __reversed__(self, /)\n",
      " |      Return a reverse iterator over the list.\n",
      " |  \n",
      " |  __rmul__(self, value, /)\n",
      " |      Return value*self.\n",
      " |  \n",
      " |  __setitem__(self, key, value, /)\n",
      " |      Set self[key] to value.\n",
      " |  \n",
      " |  __sizeof__(self, /)\n",
      " |      Return the size of the list in memory, in bytes.\n",
      " |  \n",
      " |  append(self, object, /)\n",
      " |      Append object to the end of the list.\n",
      " |  \n",
      " |  clear(self, /)\n",
      " |      Remove all items from list.\n",
      " |  \n",
      " |  copy(self, /)\n",
      " |      Return a shallow copy of the list.\n",
      " |  \n",
      " |  count(self, value, /)\n",
      " |      Return number of occurrences of value.\n",
      " |  \n",
      " |  extend(self, iterable, /)\n",
      " |      Extend list by appending elements from the iterable.\n",
      " |  \n",
      " |  index(self, value, start=0, stop=9223372036854775807, /)\n",
      " |      Return first index of value.\n",
      " |      \n",
      " |      Raises ValueError if the value is not present.\n",
      " |  \n",
      " |  insert(self, index, object, /)\n",
      " |      Insert object before index.\n",
      " |  \n",
      " |  pop(self, index=-1, /)\n",
      " |      Remove and return item at index (default last).\n",
      " |      \n",
      " |      Raises IndexError if list is empty or index is out of range.\n",
      " |  \n",
      " |  remove(self, value, /)\n",
      " |      Remove first occurrence of value.\n",
      " |      \n",
      " |      Raises ValueError if the value is not present.\n",
      " |  \n",
      " |  reverse(self, /)\n",
      " |      Reverse *IN PLACE*.\n",
      " |  \n",
      " |  sort(self, /, *, key=None, reverse=False)\n",
      " |      Sort the list in ascending order and return None.\n",
      " |      \n",
      " |      The sort is in-place (i.e. the list itself is modified) and stable (i.e. the\n",
      " |      order of two equal elements is maintained).\n",
      " |      \n",
      " |      If a key function is given, apply it once to each list item and sort them,\n",
      " |      ascending or descending, according to their function values.\n",
      " |      \n",
      " |      The reverse flag can be set to sort in descending order.\n",
      " |  \n",
      " |  ----------------------------------------------------------------------\n",
      " |  Class methods defined here:\n",
      " |  \n",
      " |  __class_getitem__(...) from builtins.type\n",
      " |      See PEP 585\n",
      " |  \n",
      " |  ----------------------------------------------------------------------\n",
      " |  Static methods defined here:\n",
      " |  \n",
      " |  __new__(*args, **kwargs) from builtins.type\n",
      " |      Create and return a new object.  See help(type) for accurate signature.\n",
      " |  \n",
      " |  ----------------------------------------------------------------------\n",
      " |  Data and other attributes defined here:\n",
      " |  \n",
      " |  __hash__ = None\n",
      "\n"
     ]
    }
   ],
   "source": [
    "help(list)"
   ]
  },
  {
   "cell_type": "markdown",
   "id": "080b84c1",
   "metadata": {},
   "source": [
    "User-defuned function"
   ]
  },
  {
   "cell_type": "code",
   "execution_count": 33,
   "id": "0416670e",
   "metadata": {},
   "outputs": [],
   "source": [
    "#function defination\n",
    "def function1():\n",
    "    print(\"hello\")"
   ]
  },
  {
   "cell_type": "code",
   "execution_count": 34,
   "id": "67c0ac7e",
   "metadata": {},
   "outputs": [
    {
     "name": "stdout",
     "output_type": "stream",
     "text": [
      "hello\n"
     ]
    }
   ],
   "source": [
    "# calling of function\n",
    "\n",
    "function1()"
   ]
  },
  {
   "cell_type": "code",
   "execution_count": 35,
   "id": "bb812533",
   "metadata": {},
   "outputs": [],
   "source": [
    "def function2():\n",
    "    print(\"inside function2\")"
   ]
  },
  {
   "cell_type": "code",
   "execution_count": 36,
   "id": "3342ff72",
   "metadata": {},
   "outputs": [
    {
     "name": "stdout",
     "output_type": "stream",
     "text": [
      "inside function2\n"
     ]
    }
   ],
   "source": [
    "function2()"
   ]
  },
  {
   "cell_type": "code",
   "execution_count": 37,
   "id": "2a5c3b64",
   "metadata": {},
   "outputs": [],
   "source": [
    "def function3():\n",
    "    print(\"lerning\")\n",
    "    print(\"inside function3\")\n",
    "    print(\"user defined function\")"
   ]
  },
  {
   "cell_type": "code",
   "execution_count": 38,
   "id": "39e72114",
   "metadata": {},
   "outputs": [
    {
     "name": "stdout",
     "output_type": "stream",
     "text": [
      "lerning\n",
      "inside function3\n",
      "user defined function\n"
     ]
    }
   ],
   "source": [
    "function3()"
   ]
  },
  {
   "cell_type": "code",
   "execution_count": 39,
   "id": "a7c03ff6",
   "metadata": {},
   "outputs": [],
   "source": [
    "def addition():\n",
    "    a=10\n",
    "    b=20\n",
    "    c=a+b\n",
    "    print(\"the value of c=\",c)"
   ]
  },
  {
   "cell_type": "code",
   "execution_count": 40,
   "id": "585e2aef",
   "metadata": {},
   "outputs": [
    {
     "name": "stdout",
     "output_type": "stream",
     "text": [
      "the value of c= 30\n"
     ]
    }
   ],
   "source": [
    "addition()"
   ]
  },
  {
   "cell_type": "code",
   "execution_count": 42,
   "id": "9da4ed7c",
   "metadata": {},
   "outputs": [],
   "source": [
    "def subtraction():\n",
    "    a=90\n",
    "    b=20\n",
    "    print(\"the value of subtraction\",a-b)"
   ]
  },
  {
   "cell_type": "code",
   "execution_count": 43,
   "id": "b7c18dce",
   "metadata": {},
   "outputs": [
    {
     "name": "stdout",
     "output_type": "stream",
     "text": [
      "the value of subtraction 70\n"
     ]
    }
   ],
   "source": [
    "subtraction()"
   ]
  },
  {
   "cell_type": "code",
   "execution_count": 44,
   "id": "766a1684",
   "metadata": {},
   "outputs": [],
   "source": [
    "def function_addition():\n",
    "    a=10\n",
    "    b=20\n",
    "    c=a+b\n",
    "    print(\"the value of c=\",c)"
   ]
  },
  {
   "cell_type": "code",
   "execution_count": 45,
   "id": "5952040b",
   "metadata": {},
   "outputs": [
    {
     "name": "stdout",
     "output_type": "stream",
     "text": [
      "the value of c= 30\n"
     ]
    }
   ],
   "source": [
    "function_addition()"
   ]
  },
  {
   "cell_type": "code",
   "execution_count": 51,
   "id": "b5f76739",
   "metadata": {},
   "outputs": [],
   "source": [
    "def multiply_func():\n",
    "    x=5\n",
    "    y=4\n",
    "    z=x*y\n",
    "    print(\"multiplication of x=\",x,\" and y=\",y,\"=\",x*y) "
   ]
  },
  {
   "cell_type": "code",
   "execution_count": 53,
   "id": "1b36a49b",
   "metadata": {},
   "outputs": [
    {
     "name": "stdout",
     "output_type": "stream",
     "text": [
      "multiplication of x= 5  and y= 4 = 20\n"
     ]
    }
   ],
   "source": [
    "multiply_func()"
   ]
  },
  {
   "cell_type": "code",
   "execution_count": 54,
   "id": "9036f6e0",
   "metadata": {},
   "outputs": [],
   "source": [
    "def square_func():\n",
    "    x=6\n",
    "    print(\"the value of squared value is \",x**2)"
   ]
  },
  {
   "cell_type": "code",
   "execution_count": 55,
   "id": "a0207455",
   "metadata": {},
   "outputs": [
    {
     "name": "stdout",
     "output_type": "stream",
     "text": [
      "the value of squared value is  36\n"
     ]
    }
   ],
   "source": [
    "square_func()"
   ]
  },
  {
   "cell_type": "code",
   "execution_count": 61,
   "id": "07912bff",
   "metadata": {},
   "outputs": [],
   "source": [
    "def area_of_circle():\n",
    "    pi=3.14\n",
    "    radius=5\n",
    "    area=pi*(radius**2)\n",
    "    print(\"the arte of circle =\",area)\n",
    "    print(\"the value of circle with value of pi=\",pi,\" and radius=\",radius,\" is \",area)"
   ]
  },
  {
   "cell_type": "code",
   "execution_count": 63,
   "id": "b28f9b18",
   "metadata": {},
   "outputs": [
    {
     "name": "stdout",
     "output_type": "stream",
     "text": [
      "the arte of circle = 78.5\n",
      "the value of circle with value of pi= 3.14  and radius= 5  is  78.5\n"
     ]
    }
   ],
   "source": [
    "area_of_circle()"
   ]
  },
  {
   "cell_type": "code",
   "execution_count": 65,
   "id": "7d5921a8",
   "metadata": {},
   "outputs": [],
   "source": [
    "def area_of_rectangle():\n",
    "    length=200\n",
    "    breadth=100\n",
    "    area_rect=length*breadth\n",
    "    print(\"the area of rectangle=\",area_rect)\n",
    "    print(\"the area of rectangle with length=\",length,\"metre and breadth =\",breadth,\"metre is \",area_rect)"
   ]
  },
  {
   "cell_type": "code",
   "execution_count": 66,
   "id": "8e6d5b26",
   "metadata": {},
   "outputs": [
    {
     "name": "stdout",
     "output_type": "stream",
     "text": [
      "the area of rectangle= 20000\n",
      "the area of rectangle with length= 200 metre and breadth = 100 metre is  20000\n"
     ]
    }
   ],
   "source": [
    "area_of_rectangle()"
   ]
  },
  {
   "cell_type": "code",
   "execution_count": null,
   "id": "021fa9c5",
   "metadata": {},
   "outputs": [],
   "source": []
  }
 ],
 "metadata": {
  "kernelspec": {
   "display_name": "Python 3 (ipykernel)",
   "language": "python",
   "name": "python3"
  },
  "language_info": {
   "codemirror_mode": {
    "name": "ipython",
    "version": 3
   },
   "file_extension": ".py",
   "mimetype": "text/x-python",
   "name": "python",
   "nbconvert_exporter": "python",
   "pygments_lexer": "ipython3",
   "version": "3.9.12"
  }
 },
 "nbformat": 4,
 "nbformat_minor": 5
}
